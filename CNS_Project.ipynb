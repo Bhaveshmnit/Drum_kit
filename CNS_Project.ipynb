{
  "nbformat": 4,
  "nbformat_minor": 0,
  "metadata": {
    "colab": {
      "provenance": [],
      "gpuType": "T4",
      "authorship_tag": "ABX9TyMe1Dt24LqW+LvCdXIOhS9a",
      "include_colab_link": true
    },
    "kernelspec": {
      "name": "python3",
      "display_name": "Python 3"
    },
    "language_info": {
      "name": "python"
    },
    "accelerator": "GPU"
  },
  "cells": [
    {
      "cell_type": "markdown",
      "metadata": {
        "id": "view-in-github",
        "colab_type": "text"
      },
      "source": [
        "<a href=\"https://colab.research.google.com/github/Bhaveshmnit/Drum_kit/blob/main/CNS_Project.ipynb\" target=\"_parent\"><img src=\"https://colab.research.google.com/assets/colab-badge.svg\" alt=\"Open In Colab\"/></a>"
      ]
    },
    {
      "cell_type": "code",
      "execution_count": null,
      "metadata": {
        "colab": {
          "base_uri": "https://localhost:8080/"
        },
        "id": "gCI3F9tcNvlX",
        "outputId": "4ed16a83-b111-49c2-a295-eaa02e6910b4"
      },
      "outputs": [
        {
          "output_type": "stream",
          "name": "stdout",
          "text": [
            "Cloning into 'source-inference-FL'...\n",
            "remote: Enumerating objects: 150, done.\u001b[K\n",
            "remote: Counting objects: 100% (6/6), done.\u001b[K\n",
            "remote: Compressing objects: 100% (4/4), done.\u001b[K\n",
            "remote: Total 150 (delta 4), reused 2 (delta 2), pack-reused 144\u001b[K\n",
            "Receiving objects: 100% (150/150), 1.61 MiB | 9.94 MiB/s, done.\n",
            "Resolving deltas: 100% (37/37), done.\n"
          ]
        }
      ],
      "source": [
        "!git clone https://github.com/HongshengHu/source-inference-FL.git"
      ]
    },
    {
      "cell_type": "code",
      "source": [
        "cd source-inference-FL/"
      ],
      "metadata": {
        "colab": {
          "base_uri": "https://localhost:8080/"
        },
        "id": "OXW6hEExN0O1",
        "outputId": "75c9726e-15ab-430b-e45b-9c98c8139a8b"
      },
      "execution_count": null,
      "outputs": [
        {
          "output_type": "stream",
          "name": "stdout",
          "text": [
            "/content/source-inference-FL\n"
          ]
        }
      ]
    },
    {
      "cell_type": "code",
      "source": [
        "!python main_fed.py --dataset=MNIST --model=cnn --alpha=1 --num_users=10 --local_ep=5"
      ],
      "metadata": {
        "colab": {
          "base_uri": "https://localhost:8080/"
        },
        "id": "7RogQ0S0N62y",
        "outputId": "100d4a83-bcd0-4789-e5e9-db00040b5152"
      },
      "execution_count": 11,
      "outputs": [
        {
          "output_type": "stream",
          "name": "stdout",
          "text": [
            "Model architecture:\n",
            "Mnistcnn(\n",
            "  (conv1): Conv2d(1, 32, kernel_size=(5, 5), stride=(1, 1))\n",
            "  (conv2): Conv2d(32, 64, kernel_size=(5, 5), stride=(1, 1))\n",
            "  (fc1): Linear(in_features=1024, out_features=512, bias=True)\n",
            "  (fc2): Linear(in_features=512, out_features=128, bias=True)\n",
            "  (fc3): Linear(in_features=128, out_features=10, bias=True)\n",
            ")\n",
            "Aggregation over all clients\n",
            "/content/source-inference-FL/models/Sia.py:54: UserWarning: Creating a tensor from a list of numpy.ndarrays is extremely slow. Please consider converting the list to a single numpy.ndarray with numpy.array() before converting to a tensor. (Triggered internally at ../torch/csrc/utils/tensor_new.cpp:275.)\n",
            "  y_loss_all = torch.tensor(y_loss_all).to(self.args.device)\n",
            "\n",
            "Prediction loss based source inference attack accuracy: 191/1000 (19.10%)\n",
            "\n",
            "Round   0, Average training loss 0.160\n",
            "\n",
            "Prediction loss based source inference attack accuracy: 156/1000 (15.60%)\n",
            "\n",
            "Round   1, Average training loss 0.049\n",
            "\n",
            "Prediction loss based source inference attack accuracy: 164/1000 (16.40%)\n",
            "\n",
            "Round   2, Average training loss 0.026\n",
            "\n",
            "Prediction loss based source inference attack accuracy: 167/1000 (16.70%)\n",
            "\n",
            "Round   3, Average training loss 0.019\n",
            "\n",
            "Prediction loss based source inference attack accuracy: 170/1000 (17.00%)\n",
            "\n",
            "Round   4, Average training loss 0.015\n",
            "\n",
            "Prediction loss based source inference attack accuracy: 138/1000 (13.80%)\n",
            "\n",
            "Round   5, Average training loss 0.012\n",
            "\n",
            "Prediction loss based source inference attack accuracy: 153/1000 (15.30%)\n",
            "\n",
            "Round   6, Average training loss 0.009\n",
            "\n",
            "Prediction loss based source inference attack accuracy: 143/1000 (14.30%)\n",
            "\n",
            "Round   7, Average training loss 0.008\n",
            "\n",
            "Prediction loss based source inference attack accuracy: 139/1000 (13.90%)\n",
            "\n",
            "Round   8, Average training loss 0.006\n",
            "\n",
            "Prediction loss based source inference attack accuracy: 146/1000 (14.60%)\n",
            "\n",
            "Round   9, Average training loss 0.006\n",
            "\n",
            "Prediction loss based source inference attack accuracy: 140/1000 (14.00%)\n",
            "\n",
            "Round  10, Average training loss 0.004\n",
            "\n",
            "Prediction loss based source inference attack accuracy: 141/1000 (14.10%)\n",
            "\n",
            "Round  11, Average training loss 0.004\n",
            "\n",
            "Prediction loss based source inference attack accuracy: 131/1000 (13.10%)\n",
            "\n",
            "Round  12, Average training loss 0.005\n",
            "\n",
            "Prediction loss based source inference attack accuracy: 120/1000 (12.00%)\n",
            "\n",
            "Round  13, Average training loss 0.002\n",
            "\n",
            "Prediction loss based source inference attack accuracy: 126/1000 (12.60%)\n",
            "\n",
            "Round  14, Average training loss 0.001\n",
            "\n",
            "Prediction loss based source inference attack accuracy: 115/1000 (11.50%)\n",
            "\n",
            "Round  15, Average training loss 0.001\n",
            "\n",
            "Prediction loss based source inference attack accuracy: 117/1000 (11.70%)\n",
            "\n",
            "Round  16, Average training loss 0.001\n",
            "\n",
            "Prediction loss based source inference attack accuracy: 133/1000 (13.30%)\n",
            "\n",
            "Round  17, Average training loss 0.003\n",
            "\n",
            "Prediction loss based source inference attack accuracy: 118/1000 (11.80%)\n",
            "\n",
            "Round  18, Average training loss 0.001\n",
            "\n",
            "Prediction loss based source inference attack accuracy: 108/1000 (10.80%)\n",
            "\n",
            "Round  19, Average training loss 0.001\n",
            "\n",
            "Experimental details:\n",
            "Model     : cnn\n",
            "Optimizer : sgd\n",
            "Learning rate: 0.01\n",
            "Global Rounds: 20\n",
            "\n",
            "Federated parameters:\n",
            "MNIST dataset,  has 10 classes\n",
            "Level of non-iid data distribution: α = 1.0\n",
            "Number of users    : 10\n",
            "Local Batch size   : 12\n",
            "Local Epochs       : 5\n",
            "\n",
            "Experimental result summary:\n",
            "Training accuracy of the joint model: 99.96\n",
            "Testing accuracy of the joint model: 99.36\n",
            "Random guess baseline of source inference : 10.00\n",
            "Highest prediction loss based source inference accuracy: 19.10\n"
          ]
        }
      ]
    },
    {
      "cell_type": "code",
      "source": [],
      "metadata": {
        "id": "BLLQDV0cWzwR"
      },
      "execution_count": null,
      "outputs": []
    }
  ]
}